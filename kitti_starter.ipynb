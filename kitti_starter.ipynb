{
 "cells": [
  {
   "cell_type": "markdown",
   "metadata": {},
   "source": [
    "# Kitti Stereo Vision\n",
    "\n",
    "In this notebook we will explore stereo vision through example by using raw city driving data from the [KITTI](http://www.cvlibs.net/datasets/kitti/raw_data.php) dataset."
   ]
  },
  {
   "cell_type": "markdown",
   "metadata": {},
   "source": []
  }
 ],
 "metadata": {
  "language_info": {
   "name": "python"
  },
  "orig_nbformat": 4
 },
 "nbformat": 4,
 "nbformat_minor": 2
}
