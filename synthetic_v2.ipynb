{
 "cells": [
  {
   "cell_type": "code",
   "execution_count": 66,
   "metadata": {},
   "outputs": [],
   "source": [
    "import numpy as np\n",
    "import matplotlib.pyplot as plt\n",
    "import open3d as o3d\n",
    "import cv2\n",
    "\n",
    "plt.rcParams['figure.figsize'] = [20, 10]"
   ]
  },
  {
   "cell_type": "code",
   "execution_count": 67,
   "metadata": {},
   "outputs": [
    {
     "data": {
      "text/plain": [
       "(16, 16, 3)"
      ]
     },
     "execution_count": 67,
     "metadata": {},
     "output_type": "execute_result"
    }
   ],
   "source": [
    "\n",
    "A = np.array([\n",
    "    [10, 10, 10, 10, 10, 10, 10, 10, 10, 10, 10, 10, 10, 10, 10, 10, ],\n",
    "    [np.nan, np.nan, np.nan, np.nan, np.nan, np.nan, np.nan, np.nan, np.nan, np.nan, np.nan, np.nan, np.nan, np.nan, np.nan, np.nan, ],\n",
    "    [10, 10, 10, 10, 10, 10, 10, 10, 10, 10, 10, 10, 10, 10, 10, 10, ],\n",
    "    [np.nan, np.nan, np.nan, np.nan, np.nan, np.nan, np.nan, np.nan, np.nan, np.nan, np.nan, np.nan, np.nan, np.nan, np.nan, np.nan, ],\n",
    "    [10, 10, 10, 10, 10, 10, 10, 10, 10, 10, 10, 10, 10, 10, 10, 10, ],\n",
    "    [np.nan, np.nan, np.nan, np.nan, np.nan, np.nan, np.nan, np.nan, np.nan, np.nan, np.nan, np.nan, np.nan, np.nan, np.nan, np.nan, ],\n",
    "    [10, 10, 10, 10, 10, 10, 10, 30, 10, 10, 10, 10, 10, 10, 10, 10, ],\n",
    "    [np.nan, np.nan, np.nan, np.nan, np.nan, np.nan, np.nan, np.nan, np.nan, np.nan, np.nan, np.nan, np.nan, np.nan, np.nan, np.nan, ],\n",
    "    [10, 10, 10, 10, 10, 30, 25, 30, 40, 10, 10, 10, 10, 10, 10, 10, ],\n",
    "    [np.nan, np.nan, np.nan, np.nan, np.nan, np.nan, np.nan, np.nan, np.nan, np.nan, np.nan, np.nan, np.nan, np.nan, np.nan, np.nan, ],\n",
    "    [10, 10, 10, 10, 10, 10, 10, 30, 10, 10, 10, 10, 10, 10, 10, 10, ],\n",
    "    [np.nan, np.nan, np.nan, np.nan, np.nan, np.nan, np.nan, np.nan, np.nan, np.nan, np.nan, np.nan, np.nan, np.nan, np.nan, np.nan, ],\n",
    "    [10, 10, 10, 10, 10, 10, 10, 10, 10, 10, 10, 10, 10, 10, 10, 10, ],\n",
    "    [np.nan, np.nan, np.nan, np.nan, np.nan, np.nan, np.nan, np.nan, np.nan, np.nan, np.nan, np.nan, np.nan, np.nan, np.nan, np.nan, ],\n",
    "    [10, 10, 10, 10, 10, 10, 10, 10, 10, 10, 10, 10, 10, 10, 10, 10, ],\n",
    "    [np.nan, np.nan, np.nan, np.nan, np.nan, np.nan, np.nan, np.nan, np.nan, np.nan, np.nan, np.nan, np.nan, np.nan, np.nan, np.nan, ],\n",
    "], dtype=np.float32)\n",
    "\n",
    "left = np.array([pixel for pixel in range(10, 18)], dtype=np.float32)\n",
    "row = np.concatenate((left, np.flip(left)))\n",
    "\n",
    "B = np.array([row for i in range(0, 16)])\n",
    "\n",
    "# Distord B\n",
    "B[11, 2] = 1000\n",
    "# B[3, 11] = 1000\n",
    "# B[9, 8] = 1000\n",
    "\n",
    "rgb = np.random.randint(0, 256, (16, 16, 3), dtype=np.uint8)\n",
    "\n",
    "A.shape\n",
    "B.shape\n",
    "rgb.shape"
   ]
  },
  {
   "cell_type": "code",
   "execution_count": 68,
   "metadata": {},
   "outputs": [
    {
     "data": {
      "text/plain": [
       "array([[False, False, False, False, False, False, False, False, False,\n",
       "        False, False, False, False, False, False, False],\n",
       "       [ True,  True,  True,  True,  True,  True,  True,  True,  True,\n",
       "         True,  True,  True,  True,  True,  True,  True],\n",
       "       [False, False, False, False, False, False, False, False, False,\n",
       "        False, False, False, False, False, False, False],\n",
       "       [ True,  True,  True,  True,  True,  True,  True,  True,  True,\n",
       "         True,  True,  True,  True,  True,  True,  True],\n",
       "       [False, False, False, False, False, False, False, False, False,\n",
       "        False, False, False, False, False, False, False],\n",
       "       [ True,  True,  True,  True,  True,  True,  True,  True,  True,\n",
       "         True,  True,  True,  True,  True,  True,  True],\n",
       "       [False, False, False, False, False, False, False, False, False,\n",
       "        False, False, False, False, False, False, False],\n",
       "       [ True,  True,  True,  True,  True,  True,  True,  True,  True,\n",
       "         True,  True,  True,  True,  True,  True,  True],\n",
       "       [False, False, False, False, False, False, False, False, False,\n",
       "        False, False, False, False, False, False, False],\n",
       "       [ True,  True,  True,  True,  True,  True,  True,  True,  True,\n",
       "         True,  True,  True,  True,  True,  True,  True],\n",
       "       [False, False, False, False, False, False, False, False, False,\n",
       "        False, False, False, False, False, False, False],\n",
       "       [ True,  True,  True,  True,  True,  True,  True,  True,  True,\n",
       "         True,  True,  True,  True,  True,  True,  True],\n",
       "       [False, False, False, False, False, False, False, False, False,\n",
       "        False, False, False, False, False, False, False],\n",
       "       [ True,  True,  True,  True,  True,  True,  True,  True,  True,\n",
       "         True,  True,  True,  True,  True,  True,  True],\n",
       "       [False, False, False, False, False, False, False, False, False,\n",
       "        False, False, False, False, False, False, False],\n",
       "       [ True,  True,  True,  True,  True,  True,  True,  True,  True,\n",
       "         True,  True,  True,  True,  True,  True,  True]])"
      ]
     },
     "execution_count": 68,
     "metadata": {},
     "output_type": "execute_result"
    }
   ],
   "source": [
    "np.isnan(A)"
   ]
  },
  {
   "cell_type": "code",
   "execution_count": 69,
   "metadata": {},
   "outputs": [
    {
     "data": {
      "text/plain": [
       "<matplotlib.image.AxesImage at 0x7f6aac2c2c10>"
      ]
     },
     "execution_count": 69,
     "metadata": {},
     "output_type": "execute_result"
    },
    {
     "data": {
      "image/png": "[encoded data removed]",
      "text/plain": [
       "<Figure size 2000x1000 with 3 Axes>"
      ]
     },
     "metadata": {},
     "output_type": "display_data"
    }
   ],
   "source": [
    "plt.subplot(1, 3, 1)\n",
    "plt.imshow(A)\n",
    "\n",
    "plt.subplot(1, 3, 2)\n",
    "plt.imshow(B)\n",
    "\n",
    "plt.subplot(1, 3, 3)\n",
    "plt.imshow(rgb)"
   ]
  },
  {
   "cell_type": "code",
   "execution_count": 70,
   "metadata": {},
   "outputs": [],
   "source": [
    "K_left = np.array([\n",
    "    [721.5377,   0.    , 609.5593],\n",
    "    [  0.    , 721.5377, 172.854 ],\n",
    "    [  0.    ,   0.    ,   1.    ]\n",
    "    ])\n",
    "\n",
    "def rgbd_to_point_cloud(color, depth_map, flip=True):\n",
    "    # Convert the depth map to Open3D depth image\n",
    "    depth_image_o3d = o3d.geometry.Image(depth_map.astype(np.float32))\n",
    "\n",
    "    # Convert the depth map to Open3D depth image\n",
    "    color_image_o3d = o3d.geometry.Image(color)\n",
    "\n",
    "    # Create RGBD image\n",
    "    rgbd_image_o3d = o3d.geometry.RGBDImage.create_from_color_and_depth(\n",
    "        color_image_o3d,\n",
    "        depth_image_o3d,\n",
    "        depth_scale=1,\n",
    "        depth_trunc=70\n",
    "    )\n",
    "\n",
    "    # Create an Intrinsics object using camera parameters\n",
    "    height, width = depth_map.shape\n",
    "    fx, fy = K_left[0, 0], K_left[1, 1]\n",
    "    cx, cy = K_left[0, 2], K_left[1, 2]\n",
    "    intrinsic = o3d.camera.PinholeCameraIntrinsic(\n",
    "        width, height, fx, fy, cx, cy)\n",
    "\n",
    "    # Create a point cloud from the depth image\n",
    "    point_cloud = o3d.geometry.PointCloud.create_from_rgbd_image(\n",
    "        rgbd_image_o3d, intrinsic)\n",
    "\n",
    "    if flip:\n",
    "        point_cloud.transform([\n",
    "            [1, 0, 0, 0],\n",
    "            [0, -1, 0, 0],\n",
    "            [0, 0, -1, 0],\n",
    "            [0, 0, 0, 1]\n",
    "        ])\n",
    "\n",
    "    return point_cloud\n",
    "\n",
    "def depth_map_to_point_cloud(depth_map, flip=True):\n",
    "    # Convert the depth map to Open3D depth image\n",
    "    depth_image_o3d = o3d.geometry.Image(depth_map.astype(np.float32))\n",
    "\n",
    "    # Create an Intrinsics object using camera parameters\n",
    "    height, width = depth_map.shape\n",
    "    fx, fy = K_left[0, 0], K_left[1, 1]\n",
    "    cx, cy = K_left[0, 2], K_left[1, 2]\n",
    "    intrinsic = o3d.camera.PinholeCameraIntrinsic(\n",
    "        width, height, fx, fy, cx, cy)\n",
    "\n",
    "    # Create a point cloud from the depth image\n",
    "    point_cloud = o3d.geometry.PointCloud.create_from_depth_image(\n",
    "        depth_image_o3d,\n",
    "        intrinsic,\n",
    "        # depth_scale=1,\n",
    "        # depth_trunc=0.00070\n",
    "    )\n",
    "\n",
    "    if flip:\n",
    "        point_cloud.transform([\n",
    "            [1, 0, 0, 0],\n",
    "            [0, -1, 0, 0],\n",
    "            [0, 0, -1, 0],\n",
    "            [0, 0, 0, 1]\n",
    "        ])\n",
    "\n",
    "    return point_cloud"
   ]
  },
  {
   "cell_type": "code",
   "execution_count": 75,
   "metadata": {},
   "outputs": [
    {
     "name": "stderr",
     "output_type": "stream",
     "text": [
      "/tmp/ipykernel_123254/3348100463.py:53: RuntimeWarning: invalid value encountered in log\n",
      "  vmin = np.min([np.ma.masked_invalid(np.log(pg_depth)).min(), np.ma.masked_invalid(np.log(B)).min()])\n",
      "/tmp/ipykernel_123254/3348100463.py:54: RuntimeWarning: invalid value encountered in log\n",
      "  vmax = np.max([np.ma.masked_invalid(np.log(pg_depth)).max(), np.ma.masked_invalid(np.log(B)).max()])\n",
      "/tmp/ipykernel_123254/3348100463.py:65: RuntimeWarning: invalid value encountered in log\n",
      "  plt.imshow(np.log(pg_depth), cmap='rainbow_r', vmin=vmin, vmax=vmax)\n",
      "/tmp/ipykernel_123254/3348100463.py:69: RuntimeWarning: divide by zero encountered in log\n",
      "  plt.imshow(np.log(pg_depth - B), cmap='rainbow_r')\n",
      "/tmp/ipykernel_123254/3348100463.py:69: RuntimeWarning: invalid value encountered in log\n",
      "  plt.imshow(np.log(pg_depth - B), cmap='rainbow_r')\n"
     ]
    },
    {
     "data": {
      "image/png": "[encoded data removed]",
      "text/plain": [
       "<Figure size 2000x1000 with 5 Axes>"
      ]
     },
     "metadata": {},
     "output_type": "display_data"
    },
    {
     "data": {
      "text/plain": [
       "array([[ 1.00000000e+01,  1.00000000e+01,  1.00000000e+01,\n",
       "         1.00000000e+01,  1.00000000e+01,  1.00000000e+01,\n",
       "         1.00000000e+01,  1.00000000e+01,  1.00000000e+01,\n",
       "         1.00000000e+01,  1.00000000e+01,  1.00000000e+01,\n",
       "         1.00000000e+01,  1.00000000e+01,  1.00000000e+01,\n",
       "         1.00000000e+01],\n",
       "       [ 8.93147053e+00,  2.27915530e+01,  1.36390933e+01,\n",
       "         2.28349328e+01,  8.19590592e+00, -1.91998014e+01,\n",
       "         4.35546926e-01,  1.45720203e+01, -1.63987725e+01,\n",
       "        -6.41054082e+00,  1.97311800e+01, -6.27015843e+00,\n",
       "        -1.27439904e+01,  1.66164467e+01,  4.27206613e+00,\n",
       "        -1.88719521e+01],\n",
       "       [ 1.00000000e+01,  1.00000000e+01,  1.00000000e+01,\n",
       "         1.00000000e+01,  1.00000000e+01,  1.00000000e+01,\n",
       "         1.00000000e+01,  1.00000000e+01,  1.00000000e+01,\n",
       "         1.00000000e+01,  1.00000000e+01,  1.00000000e+01,\n",
       "         1.00000000e+01,  1.00000000e+01,  1.00000000e+01,\n",
       "         1.00000000e+01],\n",
       "       [ 7.68576283e+00,  2.72895035e+01,  5.00232565e+01,\n",
       "         2.89475288e+01,  5.43420120e+00, -2.79522019e-01,\n",
       "        -2.66779920e+01, -1.26595024e+01,  3.11531693e+01,\n",
       "        -2.23420279e-01, -4.41495419e+01,  3.26563727e-01,\n",
       "         2.94022600e+01, -1.49023210e+01, -2.68086160e+01,\n",
       "        -2.43633034e+00],\n",
       "       [ 1.00000000e+01,  1.00000000e+01,  1.00000000e+01,\n",
       "         1.00000000e+01,  1.00000000e+01,  1.00000000e+01,\n",
       "         1.00000000e+01,  1.00000000e+01,  1.00000000e+01,\n",
       "         1.00000000e+01,  1.00000000e+01,  1.00000000e+01,\n",
       "         1.00000000e+01,  1.00000000e+01,  1.00000000e+01,\n",
       "         1.00000000e+01],\n",
       "       [ 5.81338198e+00,  2.15211156e+01,  1.06771312e+01,\n",
       "         1.97454616e+01,  9.37156025e+00, -2.05404380e+01,\n",
       "         6.86344947e+00,  2.90775185e+01, -1.28248835e+01,\n",
       "        -6.97568186e+00,  1.93972421e+01, -1.11580372e+01,\n",
       "        -1.45772900e+01,  1.51732641e+01,  1.34190847e+00,\n",
       "        -2.07807027e+01],\n",
       "       [ 1.00000000e+01,  1.00000000e+01,  1.00000000e+01,\n",
       "         1.00000000e+01,  1.00000000e+01,  1.00000000e+01,\n",
       "         1.00000000e+01,  3.00000000e+01,  1.00000000e+01,\n",
       "         1.00000000e+01,  1.00000000e+01,  1.00000000e+01,\n",
       "         1.00000000e+01,  1.00000000e+01,  1.00000000e+01,\n",
       "         1.00000000e+01],\n",
       "       [-2.50007091e+01, -3.78184143e+01, -1.29653561e+01,\n",
       "        -3.77441655e+01, -2.55717611e+01,  4.20866610e+01,\n",
       "         3.70977456e+01,  4.91940784e+00,  1.05003929e+01,\n",
       "         1.39745415e+01,  1.52398698e+01,  1.74665304e+01,\n",
       "        -4.65107342e+00, -1.09779456e+01,  3.14133914e+01,\n",
       "         3.41558846e+01],\n",
       "       [ 1.00000000e+01,  1.00000000e+01,  1.00000000e+01,\n",
       "         1.00000000e+01,  1.00000000e+01,  3.00000000e+01,\n",
       "         2.50000000e+01,  3.00000000e+01,  4.00000000e+01,\n",
       "         1.00000000e+01,  1.00000000e+01,  1.00000000e+01,\n",
       "         1.00000000e+01,  1.00000000e+01,  1.00000000e+01,\n",
       "         1.00000000e+01],\n",
       "       [ 4.95381347e+01, -6.99653439e+01, -1.62043044e+02,\n",
       "        -6.98910951e+01,  4.89670826e+01,  4.08147314e+01,\n",
       "         6.22274556e+00,  3.70663374e+01,  4.13753929e+01,\n",
       "         1.52464711e+01,  1.52398698e+01,  1.87384600e+01,\n",
       "         2.62239266e+01,  2.11689840e+01,  5.38391389e-01,\n",
       "         3.28839550e+01],\n",
       "       [ 1.00000000e+01,  1.00000000e+01,  1.00000000e+01,\n",
       "         1.00000000e+01,  1.00000000e+01,  1.00000000e+01,\n",
       "         1.00000000e+01,  3.00000000e+01,  1.00000000e+01,\n",
       "         1.00000000e+01,  1.00000000e+01,  1.00000000e+01,\n",
       "         1.00000000e+01,  1.00000000e+01,  1.00000000e+01,\n",
       "         1.00000000e+01],\n",
       "       [ 5.81338198e+00,  2.14009644e+02,  3.55599444e+02,\n",
       "         2.12233990e+02,  9.37156025e+00, -1.86368609e+01,\n",
       "         3.77384495e+01,  5.05574101e+01,  3.08389602e+01,\n",
       "         2.41523207e+01,  1.93972421e+01,  1.99699653e+01,\n",
       "         2.90865537e+01,  3.66531557e+01,  3.22169085e+01,\n",
       "        -1.88771255e+01],\n",
       "       [ 1.00000000e+01,  1.00000000e+01,  1.00000000e+01,\n",
       "         1.00000000e+01,  1.00000000e+01,  1.00000000e+01,\n",
       "         1.00000000e+01,  1.00000000e+01,  1.00000000e+01,\n",
       "         1.00000000e+01,  1.00000000e+01,  1.00000000e+01,\n",
       "         1.00000000e+01,  1.00000000e+01,  1.00000000e+01,\n",
       "         1.00000000e+01],\n",
       "       [ 5.13496066e+01, -6.70294795e+01, -1.60804431e+02,\n",
       "        -6.53714542e+01,  4.90980449e+01,  3.69898998e+01,\n",
       "         4.19700805e+00,  2.46099194e+01,  3.11531693e+01,\n",
       "         1.95567190e+01,  1.76004581e+01,  2.01067030e+01,\n",
       "         2.94022600e+01,  2.23671009e+01,  4.06638401e+00,\n",
       "         3.48330915e+01],\n",
       "       [ 1.00000000e+01,  1.00000000e+01,  1.00000000e+01,\n",
       "         1.00000000e+01,  1.00000000e+01,  1.00000000e+01,\n",
       "         1.00000000e+01,  1.00000000e+01,  1.00000000e+01,\n",
       "         1.00000000e+01,  1.00000000e+01,  1.00000000e+01,\n",
       "         1.00000000e+01,  1.00000000e+01,  1.00000000e+01,\n",
       "         1.00000000e+01],\n",
       "       [-2.19435295e+01, -3.29860786e+01, -1.19385941e+01,\n",
       "        -3.29426988e+01, -2.26790941e+01,  3.65778301e+01,\n",
       "         3.13105469e+01, -1.03306112e+01, -3.60992874e+00,\n",
       "         1.84920907e+01,  1.97311800e+01,  1.86324731e+01,\n",
       "         4.48533869e-02, -8.28618483e+00,  3.51470661e+01,\n",
       "         3.69056794e+01]])"
      ]
     },
     "execution_count": 75,
     "metadata": {},
     "output_type": "execute_result"
    }
   ],
   "source": [
    "def lpf(img, ncutoff):\n",
    "    # Apply 2D FFT to the image\n",
    "    f = np.fft.fft2(img)\n",
    "\n",
    "    # Shift the zero frequency component to the center of the spectrum\n",
    "    fshift = np.fft.fftshift(f)\n",
    "\n",
    "    # Create a circular mask of the same size as the spectrum\n",
    "    rows, cols = img.shape\n",
    "    crow, ccol = rows // 2, cols // 2\n",
    "    mask = np.zeros((rows, cols), np.uint8)\n",
    "    cutoff = int(min(crow, ccol)*ncutoff)\n",
    "    cv2.circle(mask, (ccol, crow), cutoff, 1, -1)\n",
    "    # cv2.ellipse(mask, (ccol, crow), (1, 2) * cutoff, 0, 0, 360,  1, -1)\n",
    "\n",
    "    mask = np.asarray(mask)\n",
    "\n",
    "    # Apply the mask to the shifted spectrum\n",
    "    fshift_filtered = fshift * mask\n",
    "\n",
    "    # Shift the zero frequency component back to the corner of the spectrum\n",
    "    f_filtered = np.fft.ifftshift(fshift_filtered)\n",
    "\n",
    "    # Apply the inverse 2D FFT to the filtered spectrum\n",
    "    img_filtered = np.fft.ifft2(f_filtered)\n",
    "    img_filtered = np.real(img_filtered)\n",
    "\n",
    "    return img_filtered\n",
    "\n",
    "\n",
    "def pg(A, B, ncutoff, threshold=100):\n",
    "    mask = ~np.isnan(A)\n",
    "    filtered = B\n",
    "\n",
    "    while threshold > 0:\n",
    "        filtered[mask] = A[mask]\n",
    "        filtered = lpf(filtered, ncutoff)\n",
    "        threshold -= 1\n",
    "        \n",
    "    filtered[mask] = A[mask]\n",
    "        \n",
    "    return filtered\n",
    "\n",
    "\n",
    "pg_depth = pg(\n",
    "    np.array(A.copy()),\n",
    "    np.array(B.copy()),\n",
    "    ncutoff=0.9,\n",
    "    threshold=1000\n",
    ")\n",
    "\n",
    "# Plotting\n",
    "vmin = np.min([np.ma.masked_invalid(np.log(pg_depth)).min(), np.ma.masked_invalid(np.log(B)).min()])\n",
    "vmax = np.max([np.ma.masked_invalid(np.log(pg_depth)).max(), np.ma.masked_invalid(np.log(B)).max()])\n",
    "\n",
    "plt.subplot(1, 5, 1)\n",
    "plt.imshow(np.log(A), cmap='rainbow_r', vmin=vmin, vmax=vmax)\n",
    "plt.title('A')\n",
    "\n",
    "plt.subplot(1, 5, 2)\n",
    "plt.imshow(np.log(B), cmap='rainbow_r', vmin=vmin, vmax=vmax)\n",
    "plt.title('B')\n",
    "\n",
    "plt.subplot(1, 5, 3)\n",
    "plt.imshow(np.log(pg_depth), cmap='rainbow_r', vmin=vmin, vmax=vmax)\n",
    "plt.title('PG')\n",
    "\n",
    "plt.subplot(1, 5, 4)\n",
    "plt.imshow(np.log(pg_depth - B), cmap='rainbow_r')\n",
    "plt.title('Diff')\n",
    "\n",
    "sum = B.copy()\n",
    "sum[~np.isnan(A)] = A[~np.isnan(A)]\n",
    "\n",
    "plt.subplot(1, 5, 5)\n",
    "plt.imshow(np.log(sum), cmap='rainbow_r', vmin=vmin, vmax=vmax)\n",
    "plt.title('Sum')\n",
    "\n",
    "plt.tight_layout()\n",
    "plt.show()\n",
    "\n",
    "pg_depth"
   ]
  },
  {
   "cell_type": "code",
   "execution_count": 72,
   "metadata": {},
   "outputs": [],
   "source": [
    "# Visualize the point cloud\n",
    "o3d.visualization.draw_geometries([\n",
    "    # rgbd_to_point_cloud(rgb, B),\n",
    "    depth_map_to_point_cloud(A),\n",
    "    rgbd_to_point_cloud(rgb, np.ascontiguousarray(pg_depth)),\n",
    "])"
   ]
  },
  {
   "cell_type": "code",
   "execution_count": 73,
   "metadata": {},
   "outputs": [
    {
     "data": {
      "text/plain": [
       "<matplotlib.image.AxesImage at 0x7f6aac29deb0>"
      ]
     },
     "execution_count": 73,
     "metadata": {},
     "output_type": "execute_result"
    },
    {
     "data": {
      "image/png": "[encoded data removed]",
      "text/plain": [
       "<Figure size 2000x1000 with 1 Axes>"
      ]
     },
     "metadata": {},
     "output_type": "display_data"
    }
   ],
   "source": [
    "plt.subplot(1, 3, 1)\n",
    "plt.imshow(np.abs(np.fft.fftshift(np.fft.fft2(sum) - np.fft.fft2(B))))\n",
    "\n",
    "plt.subplot(1, 3, 1)\n",
    "plt.imshow(np.abs(np.fft.fftshift(B)))\n",
    "\n",
    "plt.subplot(1, 3, 1)\n",
    "plt.imshow(np.abs(np.fft.fftshift(A)))"
   ]
  }
 ],
 "metadata": {
  "kernelspec": {
   "display_name": "Python-ddiOOh4g",
   "language": "python",
   "name": "python3"
  },
  "language_info": {
   "codemirror_mode": {
    "name": "ipython",
    "version": 3
   },
   "file_extension": ".py",
   "mimetype": "text/x-python",
   "name": "python",
   "nbconvert_exporter": "python",
   "pygments_lexer": "ipython3",
   "version": "3.8.10"
  }
 },
 "nbformat": 4,
 "nbformat_minor": 2
}
