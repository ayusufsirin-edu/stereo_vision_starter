{
 "cells": [
  {
   "cell_type": "code",
   "execution_count": 40,
   "metadata": {},
   "outputs": [],
   "source": [
    "import numpy as np\n",
    "import matplotlib.pyplot as plt\n",
    "import open3d as o3d\n",
    "import cv2\n",
    "\n",
    "plt.rcParams['figure.figsize'] = [20, 10]"
   ]
  },
  {
   "cell_type": "code",
   "execution_count": 41,
   "metadata": {},
   "outputs": [
    {
     "data": {
      "text/plain": [
       "(16, 16, 3)"
      ]
     },
     "execution_count": 41,
     "metadata": {},
     "output_type": "execute_result"
    }
   ],
   "source": [
    "\n",
    "A = np.array([\n",
    "    [10, 10, 10, 10, 10, 10, 10, 10, 10, 10, 10, 10, 10, 10, 10, 10, ],\n",
    "    [np.nan, np.nan, np.nan, np.nan, np.nan, np.nan, np.nan, np.nan, np.nan, np.nan, np.nan, np.nan, np.nan, np.nan, np.nan, np.nan, ],\n",
    "    [10, 10, 10, 10, 10, 10, 10, 10, 10, 10, 10, 10, 10, 10, 10, 10, ],\n",
    "    [np.nan, np.nan, np.nan, np.nan, np.nan, np.nan, np.nan, np.nan, np.nan, np.nan, np.nan, np.nan, np.nan, np.nan, np.nan, np.nan, ],\n",
    "    [10, 10, 10, 10, 10, 10, 10, 10, 10, 10, 10, 10, 10, 10, 10, 10, ],\n",
    "    [np.nan, np.nan, np.nan, np.nan, np.nan, np.nan, np.nan, np.nan, np.nan, np.nan, np.nan, np.nan, np.nan, np.nan, np.nan, np.nan, ],\n",
    "    [10, 10, 10, 10, 10, 10, 10, 30, 10, 10, 10, 10, 10, 10, 10, 10, ],\n",
    "    [np.nan, np.nan, np.nan, np.nan, np.nan, np.nan, np.nan, np.nan, np.nan, np.nan, np.nan, np.nan, np.nan, np.nan, np.nan, np.nan, ],\n",
    "    [10, 10, 10, 10, 10, 30, 25, 30, 40, 10, 10, 10, 10, 10, 10, 10, ],\n",
    "    [np.nan, np.nan, np.nan, np.nan, np.nan, np.nan, np.nan, np.nan, np.nan, np.nan, np.nan, np.nan, np.nan, np.nan, np.nan, np.nan, ],\n",
    "    [10, 10, 10, 10, 10, 10, 10, 30, 10, 10, 10, 10, 10, 10, 10, 10, ],\n",
    "    [np.nan, np.nan, np.nan, np.nan, np.nan, np.nan, np.nan, np.nan, np.nan, np.nan, np.nan, np.nan, np.nan, np.nan, np.nan, np.nan, ],\n",
    "    [10, 10, 10, 10, 10, 10, 10, 10, 10, 10, 10, 10, 10, 10, 10, 10, ],\n",
    "    [np.nan, np.nan, np.nan, np.nan, np.nan, np.nan, np.nan, np.nan, np.nan, np.nan, np.nan, np.nan, np.nan, np.nan, np.nan, np.nan, ],\n",
    "    [10, 10, 10, 10, 10, 10, 10, 10, 10, 10, 10, 10, 10, 10, 10, 10, ],\n",
    "    [np.nan, np.nan, np.nan, np.nan, np.nan, np.nan, np.nan, np.nan, np.nan, np.nan, np.nan, np.nan, np.nan, np.nan, np.nan, np.nan, ],\n",
    "], dtype=np.float32)\n",
    "\n",
    "left = np.array([pixel for pixel in range(10, 18)], dtype=np.float32)\n",
    "row = np.concatenate((left, np.flip(left)))\n",
    "\n",
    "B = np.array([row for i in range(0, 16)])\n",
    "\n",
    "# Distord B\n",
    "# B[11, 2] = 1000\n",
    "# B[3, 11] = 1000\n",
    "# B[9, 8] = 1000\n",
    "\n",
    "rgb = np.random.randint(0, 256, (16, 16, 3), dtype=np.uint8)\n",
    "\n",
    "A.shape\n",
    "B.shape\n",
    "rgb.shape"
   ]
  },
  {
   "cell_type": "code",
   "execution_count": 42,
   "metadata": {},
   "outputs": [
    {
     "data": {
      "text/plain": [
       "array([[False, False, False, False, False, False, False, False, False,\n",
       "        False, False, False, False, False, False, False],\n",
       "       [ True,  True,  True,  True,  True,  True,  True,  True,  True,\n",
       "         True,  True,  True,  True,  True,  True,  True],\n",
       "       [False, False, False, False, False, False, False, False, False,\n",
       "        False, False, False, False, False, False, False],\n",
       "       [ True,  True,  True,  True,  True,  True,  True,  True,  True,\n",
       "         True,  True,  True,  True,  True,  True,  True],\n",
       "       [False, False, False, False, False, False, False, False, False,\n",
       "        False, False, False, False, False, False, False],\n",
       "       [ True,  True,  True,  True,  True,  True,  True,  True,  True,\n",
       "         True,  True,  True,  True,  True,  True,  True],\n",
       "       [False, False, False, False, False, False, False, False, False,\n",
       "        False, False, False, False, False, False, False],\n",
       "       [ True,  True,  True,  True,  True,  True,  True,  True,  True,\n",
       "         True,  True,  True,  True,  True,  True,  True],\n",
       "       [False, False, False, False, False, False, False, False, False,\n",
       "        False, False, False, False, False, False, False],\n",
       "       [ True,  True,  True,  True,  True,  True,  True,  True,  True,\n",
       "         True,  True,  True,  True,  True,  True,  True],\n",
       "       [False, False, False, False, False, False, False, False, False,\n",
       "        False, False, False, False, False, False, False],\n",
       "       [ True,  True,  True,  True,  True,  True,  True,  True,  True,\n",
       "         True,  True,  True,  True,  True,  True,  True],\n",
       "       [False, False, False, False, False, False, False, False, False,\n",
       "        False, False, False, False, False, False, False],\n",
       "       [ True,  True,  True,  True,  True,  True,  True,  True,  True,\n",
       "         True,  True,  True,  True,  True,  True,  True],\n",
       "       [False, False, False, False, False, False, False, False, False,\n",
       "        False, False, False, False, False, False, False],\n",
       "       [ True,  True,  True,  True,  True,  True,  True,  True,  True,\n",
       "         True,  True,  True,  True,  True,  True,  True]])"
      ]
     },
     "execution_count": 42,
     "metadata": {},
     "output_type": "execute_result"
    }
   ],
   "source": [
    "np.isnan(A)"
   ]
  },
  {
   "cell_type": "code",
   "execution_count": 43,
   "metadata": {},
   "outputs": [
    {
     "data": {
      "text/plain": [
       "<matplotlib.image.AxesImage at 0x7f6aab3808b0>"
      ]
     },
     "execution_count": 43,
     "metadata": {},
     "output_type": "execute_result"
    },
    {
     "data": {
      "image/png": "[encoded data removed]",
      "text/plain": [
       "<Figure size 2000x1000 with 3 Axes>"
      ]
     },
     "metadata": {},
     "output_type": "display_data"
    }
   ],
   "source": [
    "plt.subplot(1, 3, 1)\n",
    "plt.imshow(A)\n",
    "\n",
    "plt.subplot(1, 3, 2)\n",
    "plt.imshow(B)\n",
    "\n",
    "plt.subplot(1, 3, 3)\n",
    "plt.imshow(rgb)"
   ]
  },
  {
   "cell_type": "code",
   "execution_count": 44,
   "metadata": {},
   "outputs": [],
   "source": [
    "K_left = np.array([\n",
    "    [721.5377,   0.    , 609.5593],\n",
    "    [  0.    , 721.5377, 172.854 ],\n",
    "    [  0.    ,   0.    ,   1.    ]\n",
    "    ])\n",
    "\n",
    "def rgbd_to_point_cloud(color, depth_map, flip=True):\n",
    "    # Convert the depth map to Open3D depth image\n",
    "    depth_image_o3d = o3d.geometry.Image(depth_map.astype(np.float32))\n",
    "\n",
    "    # Convert the depth map to Open3D depth image\n",
    "    color_image_o3d = o3d.geometry.Image(color)\n",
    "\n",
    "    # Create RGBD image\n",
    "    rgbd_image_o3d = o3d.geometry.RGBDImage.create_from_color_and_depth(\n",
    "        color_image_o3d,\n",
    "        depth_image_o3d,\n",
    "        depth_scale=1,\n",
    "        depth_trunc=70\n",
    "    )\n",
    "\n",
    "    # Create an Intrinsics object using camera parameters\n",
    "    height, width = depth_map.shape\n",
    "    fx, fy = K_left[0, 0], K_left[1, 1]\n",
    "    cx, cy = K_left[0, 2], K_left[1, 2]\n",
    "    intrinsic = o3d.camera.PinholeCameraIntrinsic(\n",
    "        width, height, fx, fy, cx, cy)\n",
    "\n",
    "    # Create a point cloud from the depth image\n",
    "    point_cloud = o3d.geometry.PointCloud.create_from_rgbd_image(\n",
    "        rgbd_image_o3d, intrinsic)\n",
    "\n",
    "    if flip:\n",
    "        point_cloud.transform([\n",
    "            [1, 0, 0, 0],\n",
    "            [0, -1, 0, 0],\n",
    "            [0, 0, -1, 0],\n",
    "            [0, 0, 0, 1]\n",
    "        ])\n",
    "\n",
    "    return point_cloud\n",
    "\n",
    "def depth_map_to_point_cloud(depth_map, flip=True):\n",
    "    # Convert the depth map to Open3D depth image\n",
    "    depth_image_o3d = o3d.geometry.Image(depth_map.astype(np.float32))\n",
    "\n",
    "    # Create an Intrinsics object using camera parameters\n",
    "    height, width = depth_map.shape\n",
    "    fx, fy = K_left[0, 0], K_left[1, 1]\n",
    "    cx, cy = K_left[0, 2], K_left[1, 2]\n",
    "    intrinsic = o3d.camera.PinholeCameraIntrinsic(\n",
    "        width, height, fx, fy, cx, cy)\n",
    "\n",
    "    # Create a point cloud from the depth image\n",
    "    point_cloud = o3d.geometry.PointCloud.create_from_depth_image(\n",
    "        depth_image_o3d,\n",
    "        intrinsic,\n",
    "        # depth_scale=1,\n",
    "        # depth_trunc=0.00070\n",
    "    )\n",
    "\n",
    "    if flip:\n",
    "        point_cloud.transform([\n",
    "            [1, 0, 0, 0],\n",
    "            [0, -1, 0, 0],\n",
    "            [0, 0, -1, 0],\n",
    "            [0, 0, 0, 1]\n",
    "        ])\n",
    "\n",
    "    return point_cloud"
   ]
  },
  {
   "cell_type": "code",
   "execution_count": 56,
   "metadata": {},
   "outputs": [
    {
     "name": "stderr",
     "output_type": "stream",
     "text": [
      "/tmp/ipykernel_123254/1607268450.py:67: RuntimeWarning: invalid value encountered in log\n",
      "  plt.imshow(np.log(pg_depth - B), cmap='rainbow_r')\n"
     ]
    },
    {
     "data": {
      "image/png": "[encoded data removed]",
      "text/plain": [
       "<Figure size 2000x1000 with 5 Axes>"
      ]
     },
     "metadata": {},
     "output_type": "display_data"
    },
    {
     "data": {
      "text/plain": [
       "array([[10.63809346,  9.89862495, 10.18455832, 10.67396841,  9.83065654,\n",
       "         8.67199219,  9.00844412,  9.98396182,  9.77704002,  9.14491874,\n",
       "         9.81544168, 10.9454005 , 10.69170998,  9.78446412, 10.05405588,\n",
       "        10.89666927],\n",
       "       [10.25547599,  9.40040199,  9.75824096, 10.55201691, 10.09442965,\n",
       "         9.19868784,  9.59126721, 10.47580337, 10.11664724,  9.29045271,\n",
       "         9.71714144, 10.60926939, 10.23587756,  9.37538791,  9.76078084,\n",
       "        10.62784077],\n",
       "       [ 9.85129129,  8.81952131,  9.30167715, 10.57343269, 10.68111888,\n",
       "        10.11353695, 10.50697328, 11.21839129, 10.67107524,  9.63693499,\n",
       "         9.76082285, 10.3071984 ,  9.73401459,  8.93000675,  9.49302672,\n",
       "        10.40097762],\n",
       "       [10.19267375,  9.23172153,  9.7224103 , 10.88557468, 10.7854635 ,\n",
       "         9.99250491, 10.2381571 , 10.93699895, 10.51074883,  9.67971418,\n",
       "        10.01193448, 10.69967178, 10.16376459,  9.31121005,  9.8051488 ,\n",
       "        10.69290527],\n",
       "       [10.56764203, 10.0073804 , 10.33824756, 10.68284162,  9.68375855,\n",
       "         8.55068813,  9.0625    , 10.14663846,  9.84749145,  9.03616329,\n",
       "         9.66175244, 10.93652729, 10.83860797,  9.90576817, 10.        ,\n",
       "        10.73399263],\n",
       "       [10.18809468, 10.11703216, 10.23660309,  9.75498246,  8.38796489,\n",
       "         8.14948538, 10.25995323, 12.18828513, 11.18684448,  8.86445691,\n",
       "         8.59408867, 10.15104544, 10.75893572,  9.95336532,  9.55619479,\n",
       "         9.99002674],\n",
       "       [ 9.70228419,  9.91571788,  9.91955103,  9.31088408,  9.01810681,\n",
       "        11.53508679, 16.71470109, 19.73833179, 16.85561624, 11.04073842,\n",
       "         8.10741507,  9.06974701, 10.36149277, 10.0084569 ,  9.32083282,\n",
       "         9.38103712],\n",
       "       [ 9.87715654, 10.12757272, 10.131452  ,  9.98230947, 11.53684333,\n",
       "        17.36281935, 25.7602212 , 29.71860871, 24.64539239, 14.92697302,\n",
       "         8.81956126,  8.70015422, 10.43868685, 10.64321402,  9.91184465,\n",
       "         9.6595067 ],\n",
       "       [10.14627344, 10.36959263, 10.3939029 , 10.54148187, 13.01277773,\n",
       "        20.33637904, 30.12240461, 34.44870742, 28.39386004, 16.95060149,\n",
       "         9.41002929,  8.74793575, 10.63458879, 11.09342684, 10.3861632 ,\n",
       "        10.01187496],\n",
       "       [ 9.87715654, 10.12757272, 10.131452  ,  9.98230947, 11.53684333,\n",
       "        17.36281935, 25.7602212 , 29.71860871, 24.64539239, 14.92697302,\n",
       "         8.81956126,  8.70015422, 10.43868685, 10.64321402,  9.91184465,\n",
       "         9.6595067 ],\n",
       "       [ 9.70228419,  9.91571788,  9.91955103,  9.31088408,  9.01810681,\n",
       "        11.53508679, 16.71470109, 19.73833179, 16.85561624, 11.04073842,\n",
       "         8.10741507,  9.06974701, 10.36149277, 10.0084569 ,  9.32083282,\n",
       "         9.38103712],\n",
       "       [10.18809468, 10.11703216, 10.23660309,  9.75498246,  8.38796489,\n",
       "         8.14948538, 10.25995323, 12.18828513, 11.18684448,  8.86445691,\n",
       "         8.59408867, 10.15104544, 10.75893572,  9.95336532,  9.55619479,\n",
       "         9.99002674],\n",
       "       [10.56764203, 10.0073804 , 10.33824756, 10.68284162,  9.68375855,\n",
       "         8.55068813,  9.0625    , 10.14663846,  9.84749145,  9.03616329,\n",
       "         9.66175244, 10.93652729, 10.83860797,  9.90576817, 10.        ,\n",
       "        10.73399263],\n",
       "       [10.19267375,  9.23172153,  9.7224103 , 10.88557468, 10.7854635 ,\n",
       "         9.99250491, 10.2381571 , 10.93699895, 10.51074883,  9.67971418,\n",
       "        10.01193448, 10.69967178, 10.16376459,  9.31121005,  9.8051488 ,\n",
       "        10.69290527],\n",
       "       [ 9.85129129,  8.81952131,  9.30167715, 10.57343269, 10.68111888,\n",
       "        10.11353695, 10.50697328, 11.21839129, 10.67107524,  9.63693499,\n",
       "         9.76082285, 10.3071984 ,  9.73401459,  8.93000675,  9.49302672,\n",
       "        10.40097762],\n",
       "       [10.25547599,  9.40040199,  9.75824096, 10.55201691, 10.09442965,\n",
       "         9.19868784,  9.59126721, 10.47580337, 10.11664724,  9.29045271,\n",
       "         9.71714144, 10.60926939, 10.23587756,  9.37538791,  9.76078084,\n",
       "        10.62784077]])"
      ]
     },
     "execution_count": 56,
     "metadata": {},
     "output_type": "execute_result"
    }
   ],
   "source": [
    "def lpf(img, ncutoff):\n",
    "    # Apply 2D FFT to the image\n",
    "    f = np.fft.fft2(img)\n",
    "\n",
    "    # Shift the zero frequency component to the center of the spectrum\n",
    "    fshift = np.fft.fftshift(f)\n",
    "\n",
    "    # Create a circular mask of the same size as the spectrum\n",
    "    rows, cols = img.shape\n",
    "    crow, ccol = rows // 2, cols // 2\n",
    "    mask = np.zeros((rows, cols), np.uint8)\n",
    "    cutoff = int(min(crow, ccol)*ncutoff)\n",
    "    cv2.circle(mask, (ccol, crow), cutoff, 1, -1)\n",
    "    # cv2.ellipse(mask, (ccol, crow), (1, 2) * cutoff, 0, 0, 360,  1, -1)\n",
    "\n",
    "    mask = np.asarray(mask)\n",
    "\n",
    "    # Apply the mask to the shifted spectrum\n",
    "    fshift_filtered = fshift * mask\n",
    "\n",
    "    # Shift the zero frequency component back to the corner of the spectrum\n",
    "    f_filtered = np.fft.ifftshift(fshift_filtered)\n",
    "\n",
    "    # Apply the inverse 2D FFT to the filtered spectrum\n",
    "    img_filtered = np.fft.ifft2(f_filtered)\n",
    "    img_filtered = np.real(img_filtered)\n",
    "\n",
    "    return img_filtered\n",
    "\n",
    "\n",
    "def pg(A, B, ncutoff, threshold=100):\n",
    "    mask = ~np.isnan(A)\n",
    "    filtered = B\n",
    "\n",
    "    while threshold > 0:\n",
    "        filtered[mask] = A[mask]\n",
    "        filtered = lpf(filtered, ncutoff)\n",
    "        threshold -= 1\n",
    "        \n",
    "    return filtered\n",
    "\n",
    "\n",
    "pg_depth = pg(\n",
    "    np.array(A.copy()),\n",
    "    np.array(B.copy()),\n",
    "    ncutoff=0.5,\n",
    "    threshold=1000\n",
    ")\n",
    "\n",
    "# Plotting\n",
    "vmin = np.min([np.ma.masked_invalid(np.log(pg_depth)).min(), np.ma.masked_invalid(np.log(B)).min()])\n",
    "vmax = np.max([np.ma.masked_invalid(np.log(pg_depth)).max(), np.ma.masked_invalid(np.log(B)).max()])\n",
    "\n",
    "plt.subplot(1, 5, 1)\n",
    "plt.imshow(np.log(A), cmap='rainbow_r', vmin=vmin, vmax=vmax)\n",
    "plt.title('A')\n",
    "\n",
    "plt.subplot(1, 5, 2)\n",
    "plt.imshow(np.log(B), cmap='rainbow_r', vmin=vmin, vmax=vmax)\n",
    "plt.title('B')\n",
    "\n",
    "plt.subplot(1, 5, 3)\n",
    "plt.imshow(np.log(pg_depth), cmap='rainbow_r', vmin=vmin, vmax=vmax)\n",
    "plt.title('PG')\n",
    "\n",
    "plt.subplot(1, 5, 4)\n",
    "plt.imshow(np.log(pg_depth - B), cmap='rainbow_r')\n",
    "plt.title('Diff')\n",
    "\n",
    "sum = B.copy()\n",
    "sum[~np.isnan(A)] = A[~np.isnan(A)]\n",
    "\n",
    "plt.subplot(1, 5, 5)\n",
    "plt.imshow(np.log(sum), cmap='rainbow_r', vmin=vmin, vmax=vmax)\n",
    "plt.title('Sum')\n",
    "\n",
    "plt.tight_layout()\n",
    "plt.show()\n",
    "\n",
    "pg_depth"
   ]
  },
  {
   "cell_type": "code",
   "execution_count": 57,
   "metadata": {},
   "outputs": [],
   "source": [
    "# Visualize the point cloud\n",
    "o3d.visualization.draw_geometries([\n",
    "    # rgbd_to_point_cloud(rgb, B),\n",
    "    depth_map_to_point_cloud(A),\n",
    "    rgbd_to_point_cloud(rgb, np.ascontiguousarray(pg_depth)),\n",
    "])"
   ]
  },
  {
   "cell_type": "code",
   "execution_count": 61,
   "metadata": {},
   "outputs": [
    {
     "data": {
      "text/plain": [
       "<matplotlib.image.AxesImage at 0x7f6aaa5682e0>"
      ]
     },
     "execution_count": 61,
     "metadata": {},
     "output_type": "execute_result"
    },
    {
     "data": {
      "image/png": "[encoded data removed]",
      "text/plain": [
       "<Figure size 2000x1000 with 1 Axes>"
      ]
     },
     "metadata": {},
     "output_type": "display_data"
    }
   ],
   "source": [
    "f = np.fft.fft2(sum) - np.fft.fft2(B)\n",
    "\n",
    "fshift = np.fft.fftshift(f)\n",
    "\n",
    "plt.imshow(np.abs(fshift))"
   ]
  }
 ],
 "metadata": {
  "kernelspec": {
   "display_name": "Python-ddiOOh4g",
   "language": "python",
   "name": "python3"
  },
  "language_info": {
   "codemirror_mode": {
    "name": "ipython",
    "version": 3
   },
   "file_extension": ".py",
   "mimetype": "text/x-python",
   "name": "python",
   "nbconvert_exporter": "python",
   "pygments_lexer": "ipython3",
   "version": "3.8.10"
  }
 },
 "nbformat": 4,
 "nbformat_minor": 2
}
