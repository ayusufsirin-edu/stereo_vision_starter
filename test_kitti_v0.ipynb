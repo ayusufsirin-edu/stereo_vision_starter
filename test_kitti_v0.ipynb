{
 "cells": [
  {
   "cell_type": "code",
   "execution_count": null,
   "metadata": {
    "id": "9YX7gGIb1nZb"
   },
   "outputs": [],
   "source": [
    "import os\n",
    "from glob import glob\n",
    "import cv2\n",
    "import open3d as o3d\n",
    "import numpy as np\n",
    "import pandas as pd\n",
    "import matplotlib.pyplot as plt\n",
    "%matplotlib inline\n",
    "plt.rcParams[\"figure.figsize\"] = (20, 10)\n",
    "\n",
    "\n",
    "112_10"
   ]
  },
  {
   "cell_type": "code",
   "execution_count": null,
   "metadata": {},
   "outputs": [],
   "source": [
    "raw_left = cv2.imread('2011_09_26/2011_09_26_drive_0057_sync/image_02/data/0000000125.png')\n",
    "scene_flow_left = cv2.imread('/media/joseph/Development/SFITC/kitti/data_scene_flow/training/image_2/000112_10.png')\n",
    "\n",
    "np.count_nonzero(raw_left - scene_flow_left)"
   ]
  },
  {
   "cell_type": "code",
   "execution_count": null,
   "metadata": {},
   "outputs": [],
   "source": [
    "DATA_PATH = r'2011_09_26/2011_09_26_drive_0057_sync'\n",
    "\n",
    "left_image_paths = sorted(glob(os.path.join(DATA_PATH, 'image_02/data/0000000125.png')))\n",
    "right_image_paths = sorted(glob(os.path.join(DATA_PATH, 'image_03/data/0000000125.png')))\n",
    "\n",
    "# get LiDAR data\n",
    "bin_paths = sorted(glob(os.path.join(DATA_PATH, 'velodyne_points/data/0000000125.bin')))\n",
    "\n",
    "print(f\"Number of left images: {len(left_image_paths)}\")\n",
    "print(f\"Number of right images: {len(right_image_paths)}\")\n",
    "print(f\"Number of LiDAR point clouds: {len(bin_paths)}\")"
   ]
  },
  {
   "cell_type": "code",
   "execution_count": null,
   "metadata": {},
   "outputs": [],
   "source": [
    "with open(r'2011_09_26/calib_cam_to_cam.txt','r') as f:\n",
    "    calib = f.readlines()\n",
    "\n",
    "# get projection matrices\n",
    "P_left = np.array([float(x) for x in calib[25].strip().split(' ')[1:]]).reshape((3,4))\n",
    "P_right = np.array([float(x) for x in calib[33].strip().split(' ')[1:]]).reshape((3,4))\n",
    "\n",
    "# get rectified rotation matrices\n",
    "R_left_rect = np.array([float(x) for x in calib[24].strip().split(' ')[1:]]).reshape((3, 3,))\n",
    "R_right_rect = np.array([float(x) for x in calib[32].strip().split(' ')[1:]]).reshape((3, 3,))\n",
    "\n",
    "R_left_rect = np.insert(R_left_rect, 3, values=[0,0,0], axis=0)\n",
    "R_left_rect = np.insert(R_left_rect, 3, values=[0,0,0,1], axis=1)"
   ]
  },
  {
   "cell_type": "code",
   "execution_count": null,
   "metadata": {},
   "outputs": [],
   "source": [
    "def decompose_projection_matrix(P):    \n",
    "    K, R, T, _, _, _, _ = cv2.decomposeProjectionMatrix(P)\n",
    "    T = T/T[3]\n",
    "\n",
    "    return K, R, T"
   ]
  },
  {
   "cell_type": "code",
   "execution_count": null,
   "metadata": {},
   "outputs": [],
   "source": [
    "K_left, R_left, T_left = decompose_projection_matrix(P_left)\n",
    "K_right, R_right, T_right = decompose_projection_matrix(P_right)"
   ]
  },
  {
   "cell_type": "code",
   "execution_count": null,
   "metadata": {},
   "outputs": [],
   "source": [
    "with open(r'2011_09_26/calib_velo_to_cam.txt', 'r') as f:\n",
    "    calib = f.readlines()\n",
    "\n",
    "R_cam_velo = np.array([float(x) for x in calib[1].strip().split(' ')[1:]]).reshape((3, 3))\n",
    "t_cam_velo = np.array([float(x) for x in calib[2].strip().split(' ')[1:]])[:, None]\n",
    "\n",
    "T_cam_velo = np.vstack((np.hstack((R_cam_velo, t_cam_velo)),\n",
    "                        np.array([0, 0, 0, 1])))\n",
    "\n",
    "T_cam_velo"
   ]
  },
  {
   "cell_type": "code",
   "execution_count": null,
   "metadata": {},
   "outputs": [],
   "source": [
    "index = 0\n",
    "\n",
    "left_image = cv2.cvtColor(cv2.imread(left_image_paths[index]), cv2.COLOR_BGR2RGB)\n",
    "right_image = cv2.cvtColor(cv2.imread(right_image_paths[index]), cv2.COLOR_BGR2RGB)"
   ]
  },
  {
   "cell_type": "code",
   "execution_count": null,
   "metadata": {},
   "outputs": [],
   "source": [
    "print(f\"The shape of an image is: {left_image.shape}\")"
   ]
  },
  {
   "cell_type": "code",
   "execution_count": null,
   "metadata": {},
   "outputs": [],
   "source": [
    "_, (ax1, ax2) = plt.subplots(1, 2, figsize=(25, 15))\n",
    "ax1.imshow(left_image)\n",
    "ax1.set_title('Left Image', size=22)\n",
    "ax2.imshow(right_image)\n",
    "ax2.set_title('Right Image', size=22);"
   ]
  },
  {
   "cell_type": "code",
   "execution_count": null,
   "metadata": {},
   "outputs": [],
   "source": [
    "def get_velo2cam(lidar_bin):\n",
    "    ''' Converts the LiDAR point cloud to camera (u, v, z) image coordinates, \n",
    "        where z is in meters\n",
    "        '''\n",
    "    # read in LiDAR data\n",
    "    scan_data = np.fromfile(lidar_bin, dtype=np.float32).reshape((-1,4))\n",
    "\n",
    "    # convert to homogeneous coordinate system\n",
    "    velo_points = scan_data[:, 0:3] # (x, y, z) --> (front, left, up)\n",
    "    velo_points = np.insert(velo_points, 3, 1, axis=1).T # homogeneous LiDAR points\n",
    "\n",
    "    # delete negative liDAR points\n",
    "    velo_points = np.delete(velo_points, np.where(velo_points[3, :] < 0), axis=1) \n",
    "\n",
    "    # possibly use RANSAC to remove the ground plane for better viewing?\n",
    "\n",
    "    # convert to camera coordinates\n",
    "    velo_camera = P_left @ R_left_rect @ T_cam_velo @ velo_points\n",
    "\n",
    "    # delete negative camera points ??\n",
    "    velo_camera  = np.delete(velo_camera , np.where(velo_camera [2,:] < 0)[0], axis=1) \n",
    "\n",
    "    # get camera coordinates u,v,z\n",
    "    velo_camera[:2] /= velo_camera[2, :]\n",
    "\n",
    "    return velo_camera"
   ]
  },
  {
   "cell_type": "code",
   "execution_count": null,
   "metadata": {},
   "outputs": [],
   "source": [
    "def project_velo2cam(lidar_bin, image):\n",
    "    ''' Projects LiDAR point cloud onto the image coordinate frame '''\n",
    "\n",
    "    # get camera (u, v, z) coordinates\n",
    "    velo_camera = get_velo2cam(lidar_bin)\n",
    "\n",
    "    (u, v, z) = velo_camera\n",
    "\n",
    "    # remove outliers (points outside of the image frame)\n",
    "    img_h, img_w, _ = image.shape\n",
    "    u_out = np.logical_or(u < 0, u > img_w)\n",
    "    v_out = np.logical_or(v < 0, v > img_h)\n",
    "    outlier = np.logical_or(u_out, v_out)\n",
    "    velo_camera = np.delete(velo_camera, np.where(outlier), axis=1)\n",
    "    \n",
    "    return velo_camera"
   ]
  },
  {
   "cell_type": "code",
   "execution_count": null,
   "metadata": {},
   "outputs": [],
   "source": [
    "lidar_bin = bin_paths[index]\n",
    "(u, v, z) = project_velo2cam(lidar_bin, left_image)"
   ]
  },
  {
   "cell_type": "code",
   "execution_count": null,
   "metadata": {},
   "outputs": [],
   "source": [
    "plt.imshow(left_image)\n",
    "plt.scatter([u], [v], c=[z], cmap='rainbow_r', alpha=0.5, s=2);"
   ]
  },
  {
   "cell_type": "code",
   "execution_count": null,
   "metadata": {},
   "outputs": [],
   "source": [
    "def compute_sgbm_disparity(left_image, right_image, num_disparities=5*16, \n",
    "                           block_size=11, window_size=5, display=False):\n",
    "    \"\"\" Computes the disparity of an image pair using the SGBM algoithm.\n",
    "        Inputs: \n",
    "            image_left/_right - (MxN) grayscale input images\n",
    "            see opencv documentation for \"StereoBM_create\"\n",
    "        Outputs:\n",
    "            disparity (MxN) computed disparity map for the input images\n",
    "        \n",
    "        NOTE: image_left must be the left image (same for the right) or \n",
    "              unexpected results will occur due to \n",
    "    \"\"\"\n",
    "    # P1 and P2 control disparity smoothness (recommended values below)\n",
    "    P1 = 8 * 3 * window_size**2\n",
    "    P2 = 32 * 3 * window_size**2\n",
    "    sgbm_obj = cv2.StereoSGBM_create(0, num_disparities, block_size, \n",
    "        P1, P2, mode=cv2.STEREO_SGBM_MODE_SGBM_3WAY)\n",
    "        \n",
    "    # compute disparity\n",
    "    disparity = sgbm_obj.compute(left_image, right_image).astype(np.float32)/16.0\n",
    "\n",
    "    # display is desired\n",
    "    if display:\n",
    "      plt.figure(figsize = (40,20))\n",
    "      plt.imshow(disparity, cmap='cividis')\n",
    "      plt.title('Disparity Map', size=25)\n",
    "      plt.show();\n",
    "\n",
    "    return disparity\n",
    "\n",
    "def calc_depth_map(disp_left, K_left, T_left, T_right):\n",
    "    ''' Computes Depth map from Intrinsic Camera Matrix and Translations vectors.\n",
    "        For KITTI, the depth is in meters.\n",
    "        '''\n",
    "    # Get the focal length from the K matrix\n",
    "    f = K_left[0, 0]\n",
    "    \n",
    "    # Get the distance between the cameras from the t matrices (baseline)\n",
    "    b = np.abs(T_left[0] - T_right[0])[0]\n",
    "    \n",
    "    # Replace all instances of 0 and -1 disparity with a small minimum value (to avoid div by 0 or negatives)\n",
    "    disp_left[disp_left <= 0] = 1e-5\n",
    "    \n",
    "    # Calculate the depths \n",
    "    depth_map = f*b / disp_left \n",
    "\n",
    "    return depth_map"
   ]
  },
  {
   "cell_type": "code",
   "execution_count": null,
   "metadata": {},
   "outputs": [],
   "source": [
    "left_image_gray = cv2.cvtColor(left_image, cv2.COLOR_RGB2GRAY)\n",
    "right_image_gray = cv2.cvtColor(right_image, cv2.COLOR_RGB2GRAY)"
   ]
  },
  {
   "cell_type": "code",
   "execution_count": null,
   "metadata": {},
   "outputs": [],
   "source": [
    "from IPython.display import Image\n",
    "from ipywidgets import interact, interactive, fixed\n",
    "\n",
    "disparity = interactive(compute_sgbm_disparity, \n",
    "                        left_image=fixed(left_image_gray), \n",
    "                        right_image=fixed(right_image_gray), \n",
    "                        num_disparities=(0,512,16), \n",
    "                        block_size=(1,19,2), \n",
    "                        window_size=(1,13,2),\n",
    "                        display=fixed(True))\n",
    "display(disparity)"
   ]
  },
  {
   "cell_type": "code",
   "execution_count": null,
   "metadata": {},
   "outputs": [],
   "source": [
    "num_disparities = disparity.kwargs['num_disparities']\n",
    "block_size = disparity.kwargs['block_size']\n",
    "window_size = disparity.kwargs['window_size']"
   ]
  },
  {
   "cell_type": "code",
   "execution_count": null,
   "metadata": {},
   "outputs": [],
   "source": [
    "disparity = compute_sgbm_disparity(left_image_gray, \n",
    "                                   right_image_gray, \n",
    "                                   num_disparities, \n",
    "                                   block_size, \n",
    "                                   window_size, \n",
    "                                   display=False)"
   ]
  },
  {
   "cell_type": "code",
   "execution_count": null,
   "metadata": {},
   "outputs": [],
   "source": [
    "stereo_depth_map = calc_depth_map(disparity, K_left, T_left, T_right)\n",
    "stereo_depth_map[stereo_depth_map > 38000000.0] = np.NAN\n",
    "\n",
    "plt.imshow(stereo_depth_map, cmap='rainbow_r'); # or 'cividis_r' or 'cividis'\n",
    "plt.scatter([u], [v], c=[z], cmap='rainbow_r', alpha=0.5, s=2);"
   ]
  },
  {
   "cell_type": "code",
   "execution_count": null,
   "metadata": {},
   "outputs": [],
   "source": [
    "stereo_depth_map.shape\n",
    "left_image.shape\n",
    "\n"
   ]
  },
  {
   "cell_type": "code",
   "execution_count": null,
   "metadata": {},
   "outputs": [],
   "source": [
    "stereo_rgbd = np.array(left_image, dtype=np.float32)\n",
    "stereo_rgbd = np.insert(stereo_rgbd, 3, stereo_depth_map, axis=-1)\n",
    "\n",
    "# left_image.dtype\n",
    "\n",
    "# stereo_rgbd.shape\n",
    "# # stereo_rgbd[::3]\n",
    "# stereo_rgbd[:,:,:3].shape\n",
    "# stereo_rgbd[:,:,3:4].shape\n",
    "# stereo_rgbd[:,:,3].shape\n",
    "stereo_rgbd[:,:,3]\n",
    "# stereo_depth_map.shape\n",
    "# stereo_depth_map\n",
    "stereo_rgbd\n",
    "stereo_rgbd.shape"
   ]
  },
  {
   "cell_type": "code",
   "execution_count": null,
   "metadata": {},
   "outputs": [],
   "source": [
    "def uvz_to_depth_map(uvz, image_shape):\n",
    "    depth_map = np.zeros(image_shape, dtype=np.float32)\n",
    "    \n",
    "    u, v, z = uvz\n",
    "    u, v = u.astype(np.int32), v.astype(np.int32)\n",
    "    \n",
    "    valid_indices = (u >= 0) & (u < image_shape[1]) & (v >= 0) & (v < image_shape[0])\n",
    "    u, v, z = u[valid_indices], v[valid_indices], z[valid_indices]\n",
    "    \n",
    "    depth_map[v, u] = z\n",
    "    \n",
    "    return depth_map\n",
    "    \n",
    "lidar_depth_map = uvz_to_depth_map((u, v, z), stereo_depth_map.shape)\n",
    "\n",
    "# TODO: Why not working?\n",
    "lidar_depth_map[lidar_depth_map == 0] = np.NAN\n",
    "\n",
    "plt.imshow(lidar_depth_map, cmap='rainbow_r');"
   ]
  },
  {
   "cell_type": "markdown",
   "metadata": {},
   "source": [
    "## Overlapping"
   ]
  },
  {
   "cell_type": "code",
   "execution_count": null,
   "metadata": {},
   "outputs": [],
   "source": [
    "lidar_depth_map.shape"
   ]
  },
  {
   "cell_type": "code",
   "execution_count": null,
   "metadata": {},
   "outputs": [],
   "source": [
    "# TODO: Make this dynamic\n",
    "\n",
    "plt.imshow(lidar_depth_map[150:,:])"
   ]
  },
  {
   "cell_type": "code",
   "execution_count": null,
   "metadata": {},
   "outputs": [],
   "source": [
    "plt.imshow(stereo_depth_map[:,80:])"
   ]
  },
  {
   "cell_type": "markdown",
   "metadata": {},
   "source": [
    "## Point Cloud"
   ]
  },
  {
   "cell_type": "code",
   "execution_count": null,
   "metadata": {},
   "outputs": [],
   "source": [
    "def depth_map_to_point_cloud(depth_map, flip=True):\n",
    "    # Convert the depth map to Open3D depth image\n",
    "    depth_image_o3d = o3d.geometry.Image(depth_map.astype(np.float32))\n",
    "\n",
    "    # Create an Intrinsics object using camera parameters\n",
    "    height, width = depth_map.shape\n",
    "    fx, fy = K_left[0, 0], K_left[1, 1]\n",
    "    cx, cy = K_left[0, 2], K_left[1, 2]\n",
    "    intrinsic = o3d.camera.PinholeCameraIntrinsic(\n",
    "        width, height, fx, fy, cx, cy)\n",
    "\n",
    "    # Create a point cloud from the depth image\n",
    "    point_cloud = o3d.geometry.PointCloud.create_from_depth_image(\n",
    "        depth_image_o3d, \n",
    "        intrinsic,\n",
    "        # depth_scale=1,\n",
    "        # depth_trunc=0.00070\n",
    "    )\n",
    "\n",
    "    if flip:\n",
    "        point_cloud.transform([\n",
    "            [1, 0, 0, 0],\n",
    "            [0, -1, 0, 0],\n",
    "            [0, 0, -1, 0],\n",
    "            [0, 0, 0, 1]\n",
    "        ])\n",
    "\n",
    "    return point_cloud\n",
    "\n",
    "\n",
    "def rgbd_to_point_cloud(color, depth_map, flip=True):\n",
    "    # Convert the depth map to Open3D depth image\n",
    "    depth_image_o3d = o3d.geometry.Image(depth_map.astype(np.float32))\n",
    "\n",
    "    # Convert the depth map to Open3D depth image\n",
    "    color_image_o3d = o3d.geometry.Image(color)\n",
    "\n",
    "    # Create RGBD image\n",
    "    rgbd_image_o3d = o3d.geometry.RGBDImage.create_from_color_and_depth(\n",
    "        color_image_o3d, \n",
    "        depth_image_o3d,\n",
    "        depth_scale=1,\n",
    "        depth_trunc=70\n",
    "        )\n",
    "\n",
    "    # Create an Intrinsics object using camera parameters\n",
    "    height, width = depth_map.shape\n",
    "    fx, fy = K_left[0, 0], K_left[1, 1]\n",
    "    cx, cy = K_left[0, 2], K_left[1, 2]\n",
    "    intrinsic = o3d.camera.PinholeCameraIntrinsic(\n",
    "        width, height, fx, fy, cx, cy)\n",
    "\n",
    "    # Create a point cloud from the depth image\n",
    "    point_cloud = o3d.geometry.PointCloud.create_from_rgbd_image(\n",
    "        rgbd_image_o3d, intrinsic)\n",
    "\n",
    "    if flip:\n",
    "        point_cloud.transform([\n",
    "            [1, 0, 0, 0],\n",
    "            [0, -1, 0, 0],\n",
    "            [0, 0, -1, 0],\n",
    "            [0, 0, 0, 1]\n",
    "        ])\n",
    "\n",
    "    return point_cloud\n",
    "\n",
    "# Visualize the point cloud\n",
    "o3d.visualization.draw_geometries([\n",
    "    depth_map_to_point_cloud(stereo_depth_map),\n",
    "    depth_map_to_point_cloud(lidar_depth_map),\n",
    "    rgbd_to_point_cloud(left_image, stereo_depth_map),\n",
    "])"
   ]
  },
  {
   "cell_type": "markdown",
   "metadata": {},
   "source": [
    "## PG Implementation"
   ]
  },
  {
   "cell_type": "code",
   "execution_count": null,
   "metadata": {},
   "outputs": [],
   "source": [
    "import cupy as cp\n",
    "\n",
    "# vlp_depth = cp.array(lidar_depth_map)\n",
    "# zed_depth = cp.array(stereo_depth_map)\n",
    "# rgb = cp.array(left_image)\n",
    "vlp_depth = cp.array(lidar_depth_map[150:,80:])\n",
    "zed_depth = cp.array(stereo_depth_map[150:,80:])\n",
    "rgb = cp.array(left_image[150:,80:])\n",
    "\n",
    "def fillB_withA(A, B):\n",
    "    # Combine A and B, prioritizing non-NaN values in A\n",
    "    combined = cp.where(cp.isnan(A), B, A)\n",
    "\n",
    "    # Calculate the column-wise means of the combined matrix, ignoring NaNs\n",
    "    col_means = cp.nanmean(combined, axis=0)\n",
    "\n",
    "    # Replace NaN values in the combined matrix with the column-wise means\n",
    "    combined = cp.where(cp.isnan(combined), col_means, combined)\n",
    "    \n",
    "    return combined\n",
    "\n",
    "print(cp.count_nonzero(cp.isnan(vlp_depth)))\n",
    "print(cp.count_nonzero(cp.isnan(zed_depth)))\n",
    "\n",
    "mask = cp.isnan(zed_depth)\n",
    "\n",
    "# zed_depth = cp.array(cv2.inpaint(zed_depth.get(), mask.get().astype(np.uint8), 3, cv2.INPAINT_TELEA))\n",
    "\n",
    "# zed_depth[cp.isnan(zed_depth)] = vlp_depth.mean()\n",
    "# zed_depth[cp.isnan(zed_depth)] = vlp_depth.max()\n",
    "# zed_depth[cp.isnan(zed_depth)] = vlp_depth.min()\n",
    "# zed_depth[zed_depth > 2000] = vlp_mean\n",
    "\n",
    "zed_depth = fillB_withA(vlp_depth, zed_depth)\n",
    "\n",
    "print(cp.count_nonzero(cp.isnan(zed_depth)))\n",
    "\n",
    "plt.imshow(np.log(zed_depth.get()), cmap='rainbow_r');"
   ]
  },
  {
   "cell_type": "code",
   "execution_count": null,
   "metadata": {},
   "outputs": [],
   "source": [
    "def lpf(img, ncutoff):\n",
    "    # Apply 2D FFT to the image\n",
    "    f = cp.fft.fft2(img)\n",
    "\n",
    "    # Shift the zero frequency component to the center of the spectrum\n",
    "    fshift = cp.fft.fftshift(f)\n",
    "\n",
    "    # Create a circular mask of the same size as the spectrum\n",
    "    rows, cols = img.shape\n",
    "    crow, ccol = rows // 2, cols // 2\n",
    "    mask = np.zeros((rows, cols), np.uint8)\n",
    "    cutoff = int(min(crow, ccol)*ncutoff)\n",
    "    cv2.circle(mask, (ccol, crow), cutoff, 1, -1)\n",
    "    # cv2.ellipse(mask, (ccol, crow), (1, 2) * cutoff, 0, 0, 360,  1, -1)\n",
    "\n",
    "    mask = cp.asarray(mask)\n",
    "\n",
    "    # Apply the mask to the shifted spectrum\n",
    "    fshift_filtered = fshift * mask\n",
    "\n",
    "    # Shift the zero frequency component back to the corner of the spectrum\n",
    "    f_filtered = cp.fft.ifftshift(fshift_filtered)\n",
    "\n",
    "    # Apply the inverse 2D FFT to the filtered spectrum\n",
    "    img_filtered = cp.fft.ifft2(f_filtered)\n",
    "    img_filtered = cp.real(img_filtered)\n",
    "\n",
    "    return img_filtered\n",
    "\n",
    "\n",
    "def pg(zed_depth, vlp_depth, ncutoff, threshold=100):\n",
    "    mask = vlp_depth > 0\n",
    "    filtered = zed_depth\n",
    "\n",
    "    while threshold > 0:\n",
    "        filtered[mask] = vlp_depth[mask]\n",
    "        filtered = lpf(filtered, ncutoff)\n",
    "\n",
    "        threshold -= 1\n",
    "        # ncutoff = ncutoff / 10\n",
    "\n",
    "    return filtered\n",
    "\n",
    "\n",
    "pg_depth = pg(\n",
    "    cp.array(zed_depth.copy()),\n",
    "    cp.array(vlp_depth.copy()),\n",
    "    # cp.log(cp.array(zed_depth.copy())),\n",
    "    # cp.log(cp.array(vlp_depth.copy())),\n",
    "    ncutoff=10,\n",
    "    threshold=100\n",
    ")\n",
    "\n",
    "# pg_depth = cp.exp(pg_depth)\n",
    "# pg_depth[mask] = cp.NAN\n",
    "\n",
    "# plt.imshow(pg_depth.get(), cmap='rainbow_r')\n",
    "# plt.imshow(np.log(pg_depth.get()), cmap='rainbow_r')\n",
    "# plt.imshow(np.exp(pg_depth.get()), cmap='rainbow_r')\n",
    "\n",
    "plt.subplot(3, 1, 1)\n",
    "plt.imshow(np.log(zed_depth.get()), cmap='rainbow_r')\n",
    "plt.title('Zed')\n",
    "\n",
    "plt.subplot(3, 1, 2)\n",
    "plt.imshow(np.log(pg_depth.get()), cmap='rainbow_r')\n",
    "plt.title('PG')\n",
    "\n",
    "plt.subplot(3, 1, 3)\n",
    "plt.imshow(np.log(pg_depth.get() - zed_depth.get()), cmap='rainbow_r')\n",
    "plt.title('Diff')\n",
    "\n",
    "plt.tight_layout()\n",
    "plt.show()"
   ]
  },
  {
   "cell_type": "code",
   "execution_count": null,
   "metadata": {},
   "outputs": [],
   "source": [
    "# Visualize the point cloud\n",
    "o3d.visualization.draw_geometries([\n",
    "    depth_map_to_point_cloud(zed_depth.get()),\n",
    "    # rgbd_to_point_cloud(rgb.get(), zed_depth.get()),\n",
    "    depth_map_to_point_cloud(vlp_depth.get()),\n",
    "    rgbd_to_point_cloud(rgb.get(), pg_depth.get()),\n",
    "    # depth_map_to_point_cloud(pg_depth.get()),\n",
    "])\n"
   ]
  },
  {
   "cell_type": "code",
   "execution_count": null,
   "metadata": {},
   "outputs": [],
   "source": [
    "left_image_filtered = cp.array(left_image_gray)\n",
    "for i in range(100):\n",
    "    left_image_filtered = lpf(left_image_filtered, ncutoff=1)\n",
    "plt.imshow(left_image_filtered.get())"
   ]
  },
  {
   "cell_type": "code",
   "execution_count": null,
   "metadata": {},
   "outputs": [],
   "source": [
    "filtered = cp.array(zed_depth)\n",
    "for i in range(1):\n",
    "    filtered = lpf(filtered, ncutoff=0.01)\n",
    "    \n",
    "filtered[mask] = cp.NAN\n",
    "    \n",
    "plt.imshow(filtered.get())\n",
    "\n",
    "o3d.visualization.draw_geometries([\n",
    "    rgbd_to_point_cloud(rgb.get(), filtered.get()),\n",
    "    # depth_map_to_point_cloud(np.log(filtered.get())),\n",
    "])"
   ]
  },
  {
   "cell_type": "code",
   "execution_count": null,
   "metadata": {},
   "outputs": [],
   "source": [
    "mask = (stereo_depth_map == 0).astype(np.uint8) * 255\n",
    "filled_depth_map = cv2.inpaint(stereo_depth_map, mask, 3, cv2.INPAINT_TELEA)\n",
    "\n",
    "plt.imshow(filled_depth_map)\n",
    "filled_depth_map.min()"
   ]
  },
  {
   "cell_type": "markdown",
   "metadata": {},
   "source": [
    "## Purposed Fill Method"
   ]
  },
  {
   "cell_type": "code",
   "execution_count": null,
   "metadata": {},
   "outputs": [],
   "source": [
    "np.array([\n",
    "    [np.nan, np.nan, np.nan, np.nan, np.nan, np.nan, np.nan, np.nan],\n",
    "    [np.nan, np.nan, np.nan, np.nan, np.nan, np.nan, np.nan, np.nan],\n",
    "    [np.nan, np.nan, np.nan, np.nan, np.nan, np.nan, np.nan, np.nan],\n",
    "    [np.nan, np.nan, np.nan, np.nan, np.nan, np.nan, np.nan, np.nan],\n",
    "    [np.nan, np.nan, np.nan, np.nan, np.nan, np.nan, np.nan, np.nan],\n",
    "    [np.nan, np.nan, np.nan, np.nan, np.nan, np.nan, np.nan, np.nan],\n",
    "    [np.nan, np.nan, np.nan, np.nan, np.nan, np.nan, np.nan, np.nan],\n",
    "    [np.nan, np.nan, np.nan, np.nan, np.nan, np.nan, np.nan, np.nan],\n",
    "])\n",
    "\n",
    "A = np.array([\n",
    "    [np.nan, 1, np.nan, np.nan, np.nan, np.nan, np.nan, np.nan],\n",
    "    [np.nan, 2, np.nan, np.nan, np.nan, np.nan, 8, np.nan],\n",
    "    [np.nan, np.nan, np.nan, np.nan, np.nan, 8, np.nan, np.nan],\n",
    "    [np.nan, np.nan, 3, np.nan, np.nan, np.nan, np.nan, np.nan],\n",
    "    [np.nan, np.nan, np.nan, 5, np.nan, np.nan, np.nan, np.nan],\n",
    "    [np.nan, np.nan, np.nan, np.nan, np.nan, 6, np.nan, np.nan],\n",
    "    [np.nan, 6, np.nan, np.nan, np.nan, np.nan, 9, np.nan],\n",
    "    [np.nan, np.nan, np.nan, np.nan, np.nan, np.nan, np.nan, np.nan],\n",
    "])\n",
    "\n",
    "B = np.array([\n",
    "    [2, np.nan, 4, 5, 2, 5, 8, 4],\n",
    "    [6, np.nan, 7, 8, 4, 2, 8, 4],\n",
    "    [6, np.nan, 7, 8, 4, 3, 4, 2],\n",
    "    [3, 4, 5, 5, 2, 5, 8, 4],\n",
    "    [6, 3, 7, 8, 4, np.nan, np.nan, 5],\n",
    "    [8, 4, 6, 3, 7, np.nan, np.nan, 1],\n",
    "    [0, 9, np.nan, np.nan, 3, 4, 5, 2],\n",
    "    [5, 2, np.nan, 4, 5, 2, 5, 8],\n",
    "])\n",
    "\n",
    "# Combine A and B, prioritizing non-NaN values in A\n",
    "combined = np.where(np.isnan(A), B, A)\n",
    "\n",
    "# Calculate the column-wise means of the combined matrix, ignoring NaNs\n",
    "col_means = np.nanmean(combined, axis=0)\n",
    "\n",
    "# Replace NaN values in the combined matrix with the column-wise means\n",
    "combined = np.where(np.isnan(combined), col_means, combined)"
   ]
  },
  {
   "cell_type": "code",
   "execution_count": null,
   "metadata": {},
   "outputs": [],
   "source": [
    "# Plot the original matrix A\n",
    "plt.subplot(1, 3, 1)\n",
    "plt.imshow(A, cmap='viridis')\n",
    "plt.title('Original Matrix A')\n",
    "plt.colorbar()\n",
    "\n",
    "# Plot the original matrix B\n",
    "plt.subplot(1, 3, 2)\n",
    "plt.imshow(B, cmap='viridis')\n",
    "plt.title('Original Matrix B')\n",
    "plt.colorbar()\n",
    "\n",
    "# Plot the combined inpainted matrix\n",
    "plt.subplot(1, 3, 3)\n",
    "plt.imshow(combined, cmap='viridis')\n",
    "plt.title('Inpainted Matrix')\n",
    "plt.colorbar()\n",
    "\n",
    "# Adjust layout\n",
    "plt.tight_layout()\n",
    "plt.show()"
   ]
  }
 ],
 "metadata": {
  "kernelspec": {
   "display_name": "Python 3.8.10 ('Python-ddiOOh4g')",
   "language": "python",
   "name": "python3"
  },
  "language_info": {
   "codemirror_mode": {
    "name": "ipython",
    "version": 3
   },
   "file_extension": ".py",
   "mimetype": "text/x-python",
   "name": "python",
   "nbconvert_exporter": "python",
   "pygments_lexer": "ipython3",
   "version": "3.8.10"
  },
  "orig_nbformat": 4,
  "vscode": {
   "interpreter": {
    "hash": "00f03ad223d9bbefba2d85a96e4c14bf4b7cfec3ac1501740897c115facd9986"
   }
  }
 },
 "nbformat": 4,
 "nbformat_minor": 2
}
